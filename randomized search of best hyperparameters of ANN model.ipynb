{
 "cells": [
  {
   "cell_type": "code",
   "execution_count": null,
   "id": "19c11a2c",
   "metadata": {},
   "outputs": [],
   "source": [
    "from keras.models import Sequential\n",
    "from keras.layers import Dense"
   ]
  },
  {
   "cell_type": "code",
   "execution_count": null,
   "id": "c3131bd2",
   "metadata": {},
   "outputs": [],
   "source": [
    "model = Sequential()\n",
    "model.add(Dense(20, input_dim=16, kernel_initializer='he_uniform', activation='relu'))\n",
    "model.add(Dense(4))\n",
    "model.compile(loss='mae', optimizer='adam')\n"
   ]
  },
  {
   "cell_type": "code",
   "execution_count": null,
   "id": "b0930b03",
   "metadata": {},
   "outputs": [],
   "source": [
    "from keras.wrappers.scikit_learn import KerasRegressor\n"
   ]
  },
  {
   "cell_type": "code",
   "execution_count": null,
   "id": "bbcea625",
   "metadata": {},
   "outputs": [],
   "source": [
    "import sklearn\n",
    "sklearn.__version__"
   ]
  },
  {
   "cell_type": "code",
   "execution_count": null,
   "id": "bcd874c6",
   "metadata": {},
   "outputs": [],
   "source": [
    "from tensorflow import keras\n",
    "import pandas as pd\n",
    "from sklearn.preprocessing import MinMaxScaler\n",
    "from sklearn.model_selection import train_test_split\n",
    "path=r\"C:\\Users\\acer\\Desktop\\all_squat\\merged.csv\"\n",
    "dataframe=pd.read_csv(path,low_memory=False)\n",
    "dataframe.drop(dataframe.columns[[0,1]],axis=1,inplace=True)\n",
    "dataset=dataframe.values\n",
    "X = dataset[:,0:16].astype('float')\n",
    "Y = dataset[:,16:].astype('float')\n",
    "x_train, x_test, y_train, y_test = train_test_split(X, Y,test_size=0.2, random_state=111)\n",
    "\n",
    "input_scaler = MinMaxScaler()\n",
    "input_scaler.fit(x_train)\n",
    "x_train = input_scaler.transform(x_train)\n",
    "x_test = input_scaler.transform(x_test)\n",
    "        \n",
    "target_scaler = MinMaxScaler()\n",
    "target_scaler.fit(y_train)\n",
    "y_train = target_scaler.transform(y_train)\n",
    "y_test = target_scaler.transform(y_test)\n",
    "\n",
    "\n",
    "\n",
    "\n",
    "\n",
    "x_train, x_valid, y_train, y_valid = train_test_split(x_train, y_train,test_size=0.1, random_state=111)     \n",
    "\n",
    "def build_model(n_hidden=1,n_neurons=20,input_dim=16):\n",
    "    model=keras.models.Sequential()\n",
    "    model.add(keras.layers.InputLayer(input_shape=(input_dim,)))\n",
    "    for layer in range(n_hidden):\n",
    "        model.add(keras.layers.Dense(n_neurons,kernel_initializer='he_uniform', activation='relu'))\n",
    "    model.add(keras.layers.Dense(4)) \n",
    "    model.compile(loss='mae',optimizer='adam')\n",
    "    return model\n",
    "\n",
    "from keras.wrappers.scikit_learn import KerasRegressor\n",
    "k_reg=KerasRegressor(build_model)\n",
    "\n",
    "from sklearn.model_selection import RandomizedSearchCV\n",
    "p=dict(n_neurons=[20,30,40,50,60],n_hidden = [0,1,2,3])\n",
    "res= RandomizedSearchCV(k_reg,p,n_iter=1,cv=3)\n",
    "res.fit(x_train,y_train,epochs=100,validation_data=(x_valid,y_valid))\n",
    "res.best_params_\n",
    "res.best_score_\n",
    "res.best_estimator_\n"
   ]
  },
  {
   "cell_type": "code",
   "execution_count": null,
   "id": "24cc499a",
   "metadata": {},
   "outputs": [],
   "source": [
    "res.best_params_"
   ]
  },
  {
   "cell_type": "code",
   "execution_count": null,
   "id": "408701b1",
   "metadata": {},
   "outputs": [],
   "source": [
    "res.best_score_"
   ]
  },
  {
   "cell_type": "code",
   "execution_count": null,
   "id": "66007430",
   "metadata": {},
   "outputs": [],
   "source": [
    "res.best_estimator_.model"
   ]
  },
  {
   "cell_type": "code",
   "execution_count": null,
   "id": "ccf772b3",
   "metadata": {},
   "outputs": [],
   "source": [
    "\n",
    "res"
   ]
  },
  {
   "cell_type": "code",
   "execution_count": null,
   "id": "139a67bb",
   "metadata": {},
   "outputs": [],
   "source": []
  }
 ],
 "metadata": {
  "kernelspec": {
   "display_name": "Python 3 (ipykernel)",
   "language": "python",
   "name": "python3"
  },
  "language_info": {
   "codemirror_mode": {
    "name": "ipython",
    "version": 3
   },
   "file_extension": ".py",
   "mimetype": "text/x-python",
   "name": "python",
   "nbconvert_exporter": "python",
   "pygments_lexer": "ipython3",
   "version": "3.9.12"
  }
 },
 "nbformat": 4,
 "nbformat_minor": 5
}
